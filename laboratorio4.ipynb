{
 "cells": [
  {
   "cell_type": "markdown",
   "metadata": {},
   "source": [
    "Postgrado en Análisis y Predicción de Datos  \n",
    "IIO - Universidad Galileo  \n",
    "Marzo, 2021  \n",
    " \n",
    "<H1><center> Laboratorio #4 - Data Wrangling with Pandas</center></H1>"
   ]
  },
  {
   "cell_type": "markdown",
   "metadata": {},
   "source": [
    "## Instrucciones\n",
    "En este laboratorio debe poner en práctica sus conocimientos sobre la librería Pandas y utilizarlo para manipular datos. El departamento de Marketing necesita analizar el comportamiento de las cuentas de varias cuentas de Instagram para entender a la compentencia y desarrollar una estrategia para mejorar los indicadores de la empresa para la que usted trabaja. En la carpeta _data_ se encuentran varios archivos, cada uno de los archivos contiene información sobre los posts de Instagram de una cuenta diferente. A lo largo de este Jupyter Notebook encontrará varias instrucciones indicando los pasos que debe realizar y los resultados esperados para completar su práctica. Debe trabajar en este mismo Notebook lo que se le solicita y luego cargar el archivo _laboratorio4.ipynb_ al GES, no modifique el nombre del archivo.\n",
    "\n",
    "Si desea saber mas sobre como generar estos archivos puede visitar https://milaronix.com/2021/01/16/como-analizar-perfiles-de-instagram-utilizando-python/"
   ]
  },
  {
   "cell_type": "code",
   "execution_count": 7,
   "metadata": {},
   "outputs": [],
   "source": [
    "#Estas son las únicas 2 librerías necesarias para este laboratorio. NO importe librerías adicionales. Si importa librerías adicionales será penalizado.\n",
    "import pandas as pd\n",
    "import os"
   ]
  },
  {
   "cell_type": "markdown",
   "metadata": {},
   "source": [
    "## Cargando los archivos y completando data faltante\n",
    "\n",
    "Cree un DataFrame llamado 'data' que contenga la información de todos los archivos dentro de la carpeta 'data'. Considere que al cargar cada uno de los archivos puede tener errores en la columna _username_ , cada archivo tiene un solo valor de _username_ entonces puede rellenar los errores con el valor correspondiente de cada archivo."
   ]
  },
  {
   "cell_type": "code",
   "execution_count": 27,
   "metadata": {},
   "outputs": [],
   "source": [
    "#lea todos los archivos dentro de la carpeta data, luego cree un DataFrame consolidado llamado data\n",
    "files = [file for file in os.listdir(\"./data\")]\n",
    "\n",
    "data = pd.DataFrame()\n",
    "for file in files:\n",
    "    df = pd.read_csv( './data/' + file, delimiter = \"|\")\n",
    "    df['username'] = fileName\n",
    "    data = pd.concat([data, df])"
   ]
  },
  {
   "cell_type": "markdown",
   "metadata": {},
   "source": [
    "La columna _upload_date_ indica la fecha en que el _post_ fué publicado. Convierta el campo *upload_data* a *date_time*.  Puede utilizar el método to_datetime() de pandas."
   ]
  },
  {
   "cell_type": "code",
   "execution_count": 28,
   "metadata": {},
   "outputs": [],
   "source": [
    "data['upload_date'] = pd.to_datetime(data['upload_date'])"
   ]
  },
  {
   "cell_type": "markdown",
   "metadata": {},
   "source": [
    "Utilice esta columna para descartar los datos del 25 de diciembre 2020 en adelante."
   ]
  },
  {
   "cell_type": "code",
   "execution_count": 29,
   "metadata": {},
   "outputs": [],
   "source": [
    "#Descarte la data >= '2020-12-25'\n",
    "data = data[data['upload_date'] < '2020-12-25']"
   ]
  },
  {
   "cell_type": "markdown",
   "metadata": {},
   "source": [
    "## Antes de comenzar a analizar los datos entienda la estructura de los datos\n",
    "\n",
    "Utilice el método info() y analize la estructura y tipos de datos del DataFrame"
   ]
  },
  {
   "cell_type": "code",
   "execution_count": 30,
   "metadata": {},
   "outputs": [
    {
     "name": "stdout",
     "output_type": "stream",
     "text": [
      "<class 'pandas.core.frame.DataFrame'>\n",
      "Int64Index: 2088 entries, 0 to 286\n",
      "Data columns (total 52 columns):\n",
      " #   Column                          Non-Null Count  Dtype         \n",
      "---  ------                          --------------  -----         \n",
      " 0   Unnamed: 0                      2088 non-null   int64         \n",
      " 1   csrf_token                      2088 non-null   object        \n",
      " 2   viewer                          0 non-null      float64       \n",
      " 3   viewer_id                       0 non-null      float64       \n",
      " 4   country_code                    2088 non-null   object        \n",
      " 5   language_code                   2088 non-null   object        \n",
      " 6   locale                          2088 non-null   object        \n",
      " 7   device_id                       2088 non-null   object        \n",
      " 8   browser_push_pub_key            2088 non-null   object        \n",
      " 9   key_id                          2088 non-null   int64         \n",
      " 10  public_key                      2088 non-null   object        \n",
      " 11  version                         2088 non-null   int64         \n",
      " 12  is_dev                          2088 non-null   bool          \n",
      " 13  rollout_hash                    2088 non-null   object        \n",
      " 14  bundle_variant                  2088 non-null   object        \n",
      " 15  frontend_dev                    2088 non-null   object        \n",
      " 16  id                              2088 non-null   int64         \n",
      " 17  shortcode                       2088 non-null   object        \n",
      " 18  height                          2088 non-null   int64         \n",
      " 19  width                           2088 non-null   int64         \n",
      " 20  gating_info                     0 non-null      float64       \n",
      " 21  fact_check_overall_rating       0 non-null      float64       \n",
      " 22  fact_check_information          0 non-null      float64       \n",
      " 23  sensitivity_friction_info       0 non-null      float64       \n",
      " 24  media_overlay_info              0 non-null      float64       \n",
      " 25  media_preview                   1480 non-null   object        \n",
      " 26  display_url                     2088 non-null   object        \n",
      " 27  accessibility_caption           1928 non-null   object        \n",
      " 28  is_video                        2088 non-null   bool          \n",
      " 29  tracking_token                  2088 non-null   object        \n",
      " 30  tagged_users                    2088 non-null   object        \n",
      " 31  caption                         2088 non-null   object        \n",
      " 32  caption_is_edited               2088 non-null   bool          \n",
      " 33  has_ranked_comments             2088 non-null   bool          \n",
      " 34  comments                        2088 non-null   int64         \n",
      " 35  comments_disabled               2088 non-null   bool          \n",
      " 36  commenting_disabled_for_viewer  2088 non-null   bool          \n",
      " 37  timestamp                       2088 non-null   int64         \n",
      " 38  likes                           2088 non-null   int64         \n",
      " 39  location                        1162 non-null   object        \n",
      " 40  viewer_has_liked                2088 non-null   bool          \n",
      " 41  viewer_has_saved                2088 non-null   bool          \n",
      " 42  viewer_has_saved_to_collection  2088 non-null   bool          \n",
      " 43  viewer_in_photo_of_you          2088 non-null   bool          \n",
      " 44  viewer_can_reshare              2088 non-null   bool          \n",
      " 45  video_url                       231 non-null    object        \n",
      " 46  has_audio                       231 non-null    object        \n",
      " 47  video_view_count                231 non-null    float64       \n",
      " 48  username                        2088 non-null   object        \n",
      " 49  full_name                       2088 non-null   object        \n",
      " 50  upload_date                     2088 non-null   datetime64[ns]\n",
      " 51  hashtags                        2088 non-null   object        \n",
      "dtypes: bool(11), datetime64[ns](1), float64(8), int64(9), object(23)\n",
      "memory usage: 707.6+ KB\n"
     ]
    }
   ],
   "source": [
    "data.info()"
   ]
  },
  {
   "cell_type": "markdown",
   "metadata": {},
   "source": [
    "Utilice el método head() para tener una idea de la información contenida en cada columna"
   ]
  },
  {
   "cell_type": "code",
   "execution_count": 31,
   "metadata": {},
   "outputs": [
    {
     "data": {
      "text/html": [
       "<div>\n",
       "<style scoped>\n",
       "    .dataframe tbody tr th:only-of-type {\n",
       "        vertical-align: middle;\n",
       "    }\n",
       "\n",
       "    .dataframe tbody tr th {\n",
       "        vertical-align: top;\n",
       "    }\n",
       "\n",
       "    .dataframe thead th {\n",
       "        text-align: right;\n",
       "    }\n",
       "</style>\n",
       "<table border=\"1\" class=\"dataframe\">\n",
       "  <thead>\n",
       "    <tr style=\"text-align: right;\">\n",
       "      <th></th>\n",
       "      <th>Unnamed: 0</th>\n",
       "      <th>csrf_token</th>\n",
       "      <th>viewer</th>\n",
       "      <th>viewer_id</th>\n",
       "      <th>country_code</th>\n",
       "      <th>language_code</th>\n",
       "      <th>locale</th>\n",
       "      <th>device_id</th>\n",
       "      <th>browser_push_pub_key</th>\n",
       "      <th>key_id</th>\n",
       "      <th>...</th>\n",
       "      <th>viewer_has_saved_to_collection</th>\n",
       "      <th>viewer_in_photo_of_you</th>\n",
       "      <th>viewer_can_reshare</th>\n",
       "      <th>video_url</th>\n",
       "      <th>has_audio</th>\n",
       "      <th>video_view_count</th>\n",
       "      <th>username</th>\n",
       "      <th>full_name</th>\n",
       "      <th>upload_date</th>\n",
       "      <th>hashtags</th>\n",
       "    </tr>\n",
       "  </thead>\n",
       "  <tbody>\n",
       "    <tr>\n",
       "      <th>0</th>\n",
       "      <td>0</td>\n",
       "      <td>D6iS7WnSFbhB9ZUFt5nWK51xdDegcZ6V</td>\n",
       "      <td>NaN</td>\n",
       "      <td>NaN</td>\n",
       "      <td>GT</td>\n",
       "      <td>en</td>\n",
       "      <td>en_US</td>\n",
       "      <td>D4425F91-940E-4EE7-8FAA-4E1AAA1A8B58</td>\n",
       "      <td>BIBn3E_rWTci8Xn6P9Xj3btShT85Wdtne0LtwNUyRQ5XjF...</td>\n",
       "      <td>88</td>\n",
       "      <td>...</td>\n",
       "      <td>False</td>\n",
       "      <td>False</td>\n",
       "      <td>True</td>\n",
       "      <td>NaN</td>\n",
       "      <td>NaN</td>\n",
       "      <td>NaN</td>\n",
       "      <td>viajaconorus</td>\n",
       "      <td>Bu the Westie</td>\n",
       "      <td>2020-12-21 09:22:24</td>\n",
       "      <td>[]</td>\n",
       "    </tr>\n",
       "    <tr>\n",
       "      <th>1</th>\n",
       "      <td>1</td>\n",
       "      <td>n9cW3xMiT311ZhtAfXYnEYO9dRBGkbhE</td>\n",
       "      <td>NaN</td>\n",
       "      <td>NaN</td>\n",
       "      <td>GT</td>\n",
       "      <td>en</td>\n",
       "      <td>en_US</td>\n",
       "      <td>D4EBBE02-4EF2-46E4-ACA7-4F8908A0C0AF</td>\n",
       "      <td>BIBn3E_rWTci8Xn6P9Xj3btShT85Wdtne0LtwNUyRQ5XjF...</td>\n",
       "      <td>88</td>\n",
       "      <td>...</td>\n",
       "      <td>False</td>\n",
       "      <td>False</td>\n",
       "      <td>True</td>\n",
       "      <td>NaN</td>\n",
       "      <td>NaN</td>\n",
       "      <td>NaN</td>\n",
       "      <td>viajaconorus</td>\n",
       "      <td>Bu the Westie</td>\n",
       "      <td>2020-12-20 09:32:18</td>\n",
       "      <td>[]</td>\n",
       "    </tr>\n",
       "    <tr>\n",
       "      <th>2</th>\n",
       "      <td>2</td>\n",
       "      <td>Y5WDcpqc8y0rsED1yI8YciJSgEqLJ9bT</td>\n",
       "      <td>NaN</td>\n",
       "      <td>NaN</td>\n",
       "      <td>GT</td>\n",
       "      <td>en</td>\n",
       "      <td>en_US</td>\n",
       "      <td>251B69CB-92EE-4D3A-B536-72AD356D98D8</td>\n",
       "      <td>BIBn3E_rWTci8Xn6P9Xj3btShT85Wdtne0LtwNUyRQ5XjF...</td>\n",
       "      <td>88</td>\n",
       "      <td>...</td>\n",
       "      <td>False</td>\n",
       "      <td>False</td>\n",
       "      <td>True</td>\n",
       "      <td>NaN</td>\n",
       "      <td>NaN</td>\n",
       "      <td>NaN</td>\n",
       "      <td>viajaconorus</td>\n",
       "      <td>Bu the Westie</td>\n",
       "      <td>2020-12-16 09:28:28</td>\n",
       "      <td>['dogapproved']</td>\n",
       "    </tr>\n",
       "    <tr>\n",
       "      <th>3</th>\n",
       "      <td>3</td>\n",
       "      <td>5vFgXtmB2ihqowxoeLeVKvWA8UrpxAsa</td>\n",
       "      <td>NaN</td>\n",
       "      <td>NaN</td>\n",
       "      <td>GT</td>\n",
       "      <td>en</td>\n",
       "      <td>en_US</td>\n",
       "      <td>A0334128-ADCC-4A0F-8FD9-F27024D2BC57</td>\n",
       "      <td>BIBn3E_rWTci8Xn6P9Xj3btShT85Wdtne0LtwNUyRQ5XjF...</td>\n",
       "      <td>88</td>\n",
       "      <td>...</td>\n",
       "      <td>False</td>\n",
       "      <td>False</td>\n",
       "      <td>True</td>\n",
       "      <td>NaN</td>\n",
       "      <td>NaN</td>\n",
       "      <td>NaN</td>\n",
       "      <td>viajaconorus</td>\n",
       "      <td>Bu the Westie</td>\n",
       "      <td>2020-12-13 14:57:03</td>\n",
       "      <td>['OliyBu', 'ThiagoyBu', 'OliThiagoyBu']</td>\n",
       "    </tr>\n",
       "    <tr>\n",
       "      <th>4</th>\n",
       "      <td>4</td>\n",
       "      <td>F4ejlkqj0IhfwjCDxNAdffQCjBci05NN</td>\n",
       "      <td>NaN</td>\n",
       "      <td>NaN</td>\n",
       "      <td>GT</td>\n",
       "      <td>en</td>\n",
       "      <td>en_US</td>\n",
       "      <td>4C162E02-7158-4F01-AE88-7A3FC33167EE</td>\n",
       "      <td>BIBn3E_rWTci8Xn6P9Xj3btShT85Wdtne0LtwNUyRQ5XjF...</td>\n",
       "      <td>88</td>\n",
       "      <td>...</td>\n",
       "      <td>False</td>\n",
       "      <td>False</td>\n",
       "      <td>True</td>\n",
       "      <td>NaN</td>\n",
       "      <td>NaN</td>\n",
       "      <td>NaN</td>\n",
       "      <td>viajaconorus</td>\n",
       "      <td>Bu the Westie</td>\n",
       "      <td>2020-12-07 11:44:15</td>\n",
       "      <td>['christmaspresent', 'bestchristmaspresent', '...</td>\n",
       "    </tr>\n",
       "  </tbody>\n",
       "</table>\n",
       "<p>5 rows × 52 columns</p>\n",
       "</div>"
      ],
      "text/plain": [
       "   Unnamed: 0                        csrf_token  viewer  viewer_id  \\\n",
       "0           0  D6iS7WnSFbhB9ZUFt5nWK51xdDegcZ6V     NaN        NaN   \n",
       "1           1  n9cW3xMiT311ZhtAfXYnEYO9dRBGkbhE     NaN        NaN   \n",
       "2           2  Y5WDcpqc8y0rsED1yI8YciJSgEqLJ9bT     NaN        NaN   \n",
       "3           3  5vFgXtmB2ihqowxoeLeVKvWA8UrpxAsa     NaN        NaN   \n",
       "4           4  F4ejlkqj0IhfwjCDxNAdffQCjBci05NN     NaN        NaN   \n",
       "\n",
       "  country_code language_code locale                             device_id  \\\n",
       "0           GT            en  en_US  D4425F91-940E-4EE7-8FAA-4E1AAA1A8B58   \n",
       "1           GT            en  en_US  D4EBBE02-4EF2-46E4-ACA7-4F8908A0C0AF   \n",
       "2           GT            en  en_US  251B69CB-92EE-4D3A-B536-72AD356D98D8   \n",
       "3           GT            en  en_US  A0334128-ADCC-4A0F-8FD9-F27024D2BC57   \n",
       "4           GT            en  en_US  4C162E02-7158-4F01-AE88-7A3FC33167EE   \n",
       "\n",
       "                                browser_push_pub_key  key_id  ...  \\\n",
       "0  BIBn3E_rWTci8Xn6P9Xj3btShT85Wdtne0LtwNUyRQ5XjF...      88  ...   \n",
       "1  BIBn3E_rWTci8Xn6P9Xj3btShT85Wdtne0LtwNUyRQ5XjF...      88  ...   \n",
       "2  BIBn3E_rWTci8Xn6P9Xj3btShT85Wdtne0LtwNUyRQ5XjF...      88  ...   \n",
       "3  BIBn3E_rWTci8Xn6P9Xj3btShT85Wdtne0LtwNUyRQ5XjF...      88  ...   \n",
       "4  BIBn3E_rWTci8Xn6P9Xj3btShT85Wdtne0LtwNUyRQ5XjF...      88  ...   \n",
       "\n",
       "  viewer_has_saved_to_collection  viewer_in_photo_of_you  viewer_can_reshare  \\\n",
       "0                          False                   False                True   \n",
       "1                          False                   False                True   \n",
       "2                          False                   False                True   \n",
       "3                          False                   False                True   \n",
       "4                          False                   False                True   \n",
       "\n",
       "  video_url has_audio video_view_count      username      full_name  \\\n",
       "0       NaN       NaN              NaN  viajaconorus  Bu the Westie   \n",
       "1       NaN       NaN              NaN  viajaconorus  Bu the Westie   \n",
       "2       NaN       NaN              NaN  viajaconorus  Bu the Westie   \n",
       "3       NaN       NaN              NaN  viajaconorus  Bu the Westie   \n",
       "4       NaN       NaN              NaN  viajaconorus  Bu the Westie   \n",
       "\n",
       "          upload_date                                           hashtags  \n",
       "0 2020-12-21 09:22:24                                                 []  \n",
       "1 2020-12-20 09:32:18                                                 []  \n",
       "2 2020-12-16 09:28:28                                    ['dogapproved']  \n",
       "3 2020-12-13 14:57:03            ['OliyBu', 'ThiagoyBu', 'OliThiagoyBu']  \n",
       "4 2020-12-07 11:44:15  ['christmaspresent', 'bestchristmaspresent', '...  \n",
       "\n",
       "[5 rows x 52 columns]"
      ]
     },
     "execution_count": 31,
     "metadata": {},
     "output_type": "execute_result"
    }
   ],
   "source": [
    "data.head()"
   ]
  },
  {
   "cell_type": "markdown",
   "metadata": {},
   "source": [
    "## Cuál es la cuenta con mas publicaciones?\n",
    "El campo _id_ es un identificador único para cada _post_ . Utilizando groupby() cree una tabla mostrando la cantidad de _posts_ para cada _username_.  Esta tabla debe tener 3 columnas: _full_name_, _username_ y el recuento de _id_"
   ]
  },
  {
   "cell_type": "code",
   "execution_count": 37,
   "metadata": {},
   "outputs": [
    {
     "name": "stdout",
     "output_type": "stream",
     "text": [
      "  full_name      username                   id\n",
      "1    ORUS 🐶  viajaconorus  2471633081865386102\n"
     ]
    }
   ],
   "source": [
    "masposts = data.sort_values(by=['id'], ascending=False)[0:1]\n",
    "print(pd.DataFrame(masposts, columns=['full_name', 'username', 'id']))"
   ]
  },
  {
   "cell_type": "markdown",
   "metadata": {},
   "source": [
    "## Cúal es la cuenta del post más antiguo y del más reciente?\n",
    "\n",
    "Encuentre el _id_ del _post_ más antiguo e indique a que _username_ pertenece. Debe mostrar estos 3 datos únicamente: _id_, _username_, _upload_date_."
   ]
  },
  {
   "cell_type": "code",
   "execution_count": 38,
   "metadata": {},
   "outputs": [
    {
     "name": "stdout",
     "output_type": "stream",
     "text": [
      "                      id      username         upload_date\n",
      "610  1110533568476282948  viajaconorus 2015-11-03 20:58:59\n"
     ]
    }
   ],
   "source": [
    "postmasantiguo = data.sort_values(by=['id'], ascending=True)[0:1]\n",
    "print(pd.DataFrame(postmasantiguo, columns=['id', 'username', 'upload_date']))"
   ]
  },
  {
   "cell_type": "markdown",
   "metadata": {},
   "source": [
    "Encuentre el _id_ del _post_ más reciente e indique a que _username_ pertenece. Debe mostrar estos 3 datos únicamente: _id_, _username_, _upload_date_"
   ]
  },
  {
   "cell_type": "code",
   "execution_count": 39,
   "metadata": {},
   "outputs": [
    {
     "name": "stdout",
     "output_type": "stream",
     "text": [
      "                    id      username         upload_date\n",
      "1  2471633081865386102  viajaconorus 2020-12-24 20:00:45\n"
     ]
    }
   ],
   "source": [
    "postmasreciente = data.sort_values(by=['upload_date'], ascending=False)[0:1]\n",
    "print(pd.DataFrame(postmasreciente, columns=['id', 'username', 'upload_date']))"
   ]
  },
  {
   "cell_type": "markdown",
   "metadata": {},
   "source": [
    "## La cuenta con mas likes\n",
    "\n",
    "La columna _likes_ indica la cantidad de _likes_ en cada _post_. Utilizando groupby() cree una tabla mostrando la cantidad de _likes_ para cada _username_. Indique en el comentario el _username_ de la cuenta con la mayor y la menor cantidad de _likes_,  también indique la cantidad de _likes_."
   ]
  },
  {
   "cell_type": "code",
   "execution_count": 41,
   "metadata": {},
   "outputs": [
    {
     "name": "stdout",
     "output_type": "stream",
     "text": [
      "              Unnamed: 0  viewer  viewer_id    key_id  version  is_dev  \\\n",
      "username                                                                 \n",
      "viajaconorus    507128.0     0.0        0.0  232905.0  20880.0       0   \n",
      "\n",
      "                        id     height      width  gating_info  ...  \\\n",
      "username                                                       ...   \n",
      "viajaconorus  4.137913e+21  2287739.0  2168064.0          0.0  ...   \n",
      "\n",
      "              comments_disabled  commenting_disabled_for_viewer     timestamp  \\\n",
      "username                                                                        \n",
      "viajaconorus                  1                               0  3.237369e+12   \n",
      "\n",
      "                 likes  viewer_has_liked  viewer_has_saved  \\\n",
      "username                                                     \n",
      "viajaconorus  426984.0                 0                 0   \n",
      "\n",
      "              viewer_has_saved_to_collection  viewer_in_photo_of_you  \\\n",
      "username                                                               \n",
      "viajaconorus                               0                       0   \n",
      "\n",
      "              viewer_can_reshare  video_view_count  \n",
      "username                                            \n",
      "viajaconorus                2088           71284.0  \n",
      "\n",
      "[1 rows x 28 columns]\n",
      "              Unnamed: 0  viewer  viewer_id    key_id  version  is_dev  \\\n",
      "username                                                                 \n",
      "viajaconorus    507128.0     0.0        0.0  232905.0  20880.0       0   \n",
      "\n",
      "                        id     height      width  gating_info  ...  \\\n",
      "username                                                       ...   \n",
      "viajaconorus  4.137913e+21  2287739.0  2168064.0          0.0  ...   \n",
      "\n",
      "              comments_disabled  commenting_disabled_for_viewer     timestamp  \\\n",
      "username                                                                        \n",
      "viajaconorus                  1                               0  3.237369e+12   \n",
      "\n",
      "                 likes  viewer_has_liked  viewer_has_saved  \\\n",
      "username                                                     \n",
      "viajaconorus  426984.0                 0                 0   \n",
      "\n",
      "              viewer_has_saved_to_collection  viewer_in_photo_of_you  \\\n",
      "username                                                               \n",
      "viajaconorus                               0                       0   \n",
      "\n",
      "              viewer_can_reshare  video_view_count  \n",
      "username                                            \n",
      "viajaconorus                2088           71284.0  \n",
      "\n",
      "[1 rows x 28 columns]\n"
     ]
    }
   ],
   "source": [
    "# la cuenta con mas likes es _____ con _____ likes\n",
    "# la cuenta con menos likes es _____ con _____ likes\n",
    "\n",
    "groupbyusername = data.groupby(['username']).sum()\n",
    "maslikes = groupbyusername.sort_values(by=['likes'], ascending=False)[0:1]\n",
    "print(maslikes)\n",
    "\n",
    "menoslikes = groupbyusername.sort_values(by=['likes'], ascending=True)[0:1]\n",
    "print(menoslikes)"
   ]
  },
  {
   "cell_type": "markdown",
   "metadata": {},
   "source": [
    "## Publicar vídeos ayuda a tener likes?\n",
    "\n",
    "La columna _is_video_ nos dice dice si el _post_ es un vídeo. Utilizando groupby() cree una tabla mostrando la cantidad de vídeos para cada _username_ y compare si la cuenta con más vídeos es la cuenta con más _likes_."
   ]
  },
  {
   "cell_type": "code",
   "execution_count": 49,
   "metadata": {},
   "outputs": [
    {
     "name": "stdout",
     "output_type": "stream",
     "text": [
      "              is_video     likes\n",
      "username                        \n",
      "viajaconorus       119  426984.0\n"
     ]
    }
   ],
   "source": [
    "videoposts = pd.DataFrame(groupbyusername.sort_values(by=['likes'], ascending=False), columns=['is_video', 'likes'])\n",
    "print(videoposts)"
   ]
  },
  {
   "cell_type": "markdown",
   "metadata": {},
   "source": [
    "Ve una relación entre la cantidad de likes y la cantidad de vídeos publicados? Indique su respuesta en un comentario en la celda a continuación."
   ]
  },
  {
   "cell_type": "code",
   "execution_count": 51,
   "metadata": {},
   "outputs": [],
   "source": [
    "# Indique su respuesta acá\n",
    "# viajaconorus es el usuario con más videoposts"
   ]
  },
  {
   "cell_type": "markdown",
   "metadata": {},
   "source": [
    "## El mejor día de la semana para publicar basado en likes\n",
    "\n",
    "Cree una tabla que muestre el promedio de likes por _post_ para cada día de la semana (lun, mar, mie, jue, vie, sab, dom). \n",
    "\n",
    "### Referencia\n",
    "https://pandas.pydata.org/pandas-docs/stable/reference/api/pandas.DatetimeIndex.day_name.html?highlight=day_name"
   ]
  },
  {
   "cell_type": "code",
   "execution_count": null,
   "metadata": {},
   "outputs": [],
   "source": []
  },
  {
   "cell_type": "markdown",
   "metadata": {},
   "source": [
    "Cuál es el día con más likes promedio por _post_?  Indique su respuesta en un comentario en la celda a continuación."
   ]
  },
  {
   "cell_type": "code",
   "execution_count": null,
   "metadata": {},
   "outputs": [],
   "source": [
    "# El día con mas likes promedio por post es:"
   ]
  },
  {
   "cell_type": "markdown",
   "metadata": {},
   "source": [
    "## Agregar una ubicación a la publicación aumenta la cantidad de _likes_?\n",
    "\n",
    "La columna _location_ nos dice la ubicación que se le asignó al _post_. Este es un parámetro opcional al momento de publicar. Cree una tabla que permita analizar si agregar una ubicación a la publicación ayuda a tener mas likes. La tabla debe tener las siguientes 2 columnas: _Flag_ indicando si el _post_ tiene o no tiene ubicación indicada, promedio de likes por _post_"
   ]
  },
  {
   "cell_type": "code",
   "execution_count": null,
   "metadata": {},
   "outputs": [],
   "source": []
  },
  {
   "cell_type": "markdown",
   "metadata": {},
   "source": [
    "Basado en su análisis anterior, sería válido asumir que indicar la ubicación ayuda a tener más likes? Indique su respuesta en un comentario en la celda a continuación."
   ]
  },
  {
   "cell_type": "code",
   "execution_count": null,
   "metadata": {},
   "outputs": [],
   "source": [
    "# Es válido asumir que indicar la ubicación ayuda a tener más likes? "
   ]
  },
  {
   "cell_type": "markdown",
   "metadata": {},
   "source": [
    "## La cantidad de caracteres en la descipción de la publicación ayuda a tener más likes?\n",
    "\n",
    "La columna _caption_ es la descipción que se publicón con el _post_. Calcule la cantidad de caracteres de esta columna y luego y asignelo a una nueva columna llamada _caption_length_. Luego cree una segunda columna llamada _caption_length_bins_ categorice la cantidad de caracteres en rangos, usted decide el tamaño de cada rango. Por último cree una tabla que permita analizar si a mayor cantidad de caracteres en la descipción es mayor la cantidad de likes por post.\n",
    "\n",
    "### Referencia\n",
    "* https://pandas.pydata.org/pandas-docs/stable/reference/api/pandas.Series.str.len.html?highlight=len\n",
    "* https://pandas.pydata.org/pandas-docs/stable/reference/api/pandas.cut.html"
   ]
  },
  {
   "cell_type": "code",
   "execution_count": null,
   "metadata": {},
   "outputs": [],
   "source": []
  },
  {
   "cell_type": "markdown",
   "metadata": {},
   "source": [
    "Observa alguna relación entre la cantidad de likes y la longitud de la descripción? Indique su respuesta en un comentario en la celda a continuación."
   ]
  },
  {
   "cell_type": "code",
   "execution_count": null,
   "metadata": {},
   "outputs": [],
   "source": [
    "# Observa alguna relación entre la cantidad de likes y la longitud de la descripción?"
   ]
  }
 ],
 "metadata": {
  "kernelspec": {
   "display_name": "Python 3",
   "language": "python",
   "name": "python3"
  },
  "language_info": {
   "codemirror_mode": {
    "name": "ipython",
    "version": 3
   },
   "file_extension": ".py",
   "mimetype": "text/x-python",
   "name": "python",
   "nbconvert_exporter": "python",
   "pygments_lexer": "ipython3",
   "version": "3.8.5"
  }
 },
 "nbformat": 4,
 "nbformat_minor": 4
}
